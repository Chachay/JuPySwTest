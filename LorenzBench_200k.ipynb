{
 "cells": [
  {
   "cell_type": "code",
   "execution_count": 1,
   "metadata": {
    "collapsed": false
   },
   "outputs": [
    {
     "name": "stdout",
     "output_type": "stream",
     "text": [
      "Julia Version 0.6.1\n",
      "Commit 0d7248e2ff* (2017-10-24 22:15 UTC)\n",
      "Platform Info:\n",
      "  OS: Windows (x86_64-w64-mingw32)\n",
      "  CPU: Intel(R) Core(TM) i3-3240 CPU @ 3.40GHz\n",
      "  WORD_SIZE: 64\n",
      "  BLAS: libopenblas (USE64BITINT DYNAMIC_ARCH NO_AFFINITY Sandybridge)\n",
      "  LAPACK: libopenblas64_\n",
      "  LIBM: libopenlibm\n",
      "  LLVM: libLLVM-3.9.1 (ORCJIT, ivybridge)\n"
     ]
    }
   ],
   "source": [
    "versioninfo()"
   ]
  },
  {
   "cell_type": "code",
   "execution_count": 2,
   "metadata": {
    "collapsed": false
   },
   "outputs": [
    {
     "name": "stderr",
     "output_type": "stream",
     "text": [
      "Python 3.6.0 :: Anaconda 4.3.0 (64-bit)\r\n"
     ]
    }
   ],
   "source": [
    "run(`python --version`)"
   ]
  },
  {
   "cell_type": "code",
   "execution_count": 3,
   "metadata": {
    "collapsed": false
   },
   "outputs": [
    {
     "data": {
      "text/plain": [
       "1"
      ]
     },
     "execution_count": 3,
     "metadata": {},
     "output_type": "execute_result"
    }
   ],
   "source": [
    "nprocs()"
   ]
  },
  {
   "cell_type": "code",
   "execution_count": 4,
   "metadata": {
    "collapsed": false
   },
   "outputs": [
    {
     "name": "stdout",
     "output_type": "stream",
     "text": [
      "elapsed time: 0.834317399 seconds\n"
     ]
    },
    {
     "data": {
      "text/plain": [
       "0.834317399"
      ]
     },
     "execution_count": 4,
     "metadata": {},
     "output_type": "execute_result"
    }
   ],
   "source": [
    "tic()\n",
    "run(`python ./Python/lorenz.py`)\n",
    "toc()"
   ]
  },
  {
   "cell_type": "code",
   "execution_count": 5,
   "metadata": {
    "collapsed": false
   },
   "outputs": [
    {
     "data": {
      "text/plain": [
       "0.340066639"
      ]
     },
     "execution_count": 5,
     "metadata": {},
     "output_type": "execute_result"
    }
   ],
   "source": [
    "tic()\n",
    "run(`julia ./julia/lorenz.jl`)\n",
    "a = toq()"
   ]
  },
  {
   "cell_type": "code",
   "execution_count": 6,
   "metadata": {
    "collapsed": false
   },
   "outputs": [
    {
     "name": "stdout",
     "output_type": "stream",
     "text": [
      "elapsed time: 0.838595068 seconds\n"
     ]
    },
    {
     "data": {
      "text/plain": [
       "0.838595068"
      ]
     },
     "execution_count": 6,
     "metadata": {},
     "output_type": "execute_result"
    }
   ],
   "source": [
    "tic()\n",
    "run(`python ./Python/lorenz.numba.py`)\n",
    "toc()"
   ]
  },
  {
   "cell_type": "code",
   "execution_count": 7,
   "metadata": {
    "collapsed": false
   },
   "outputs": [
    {
     "name": "stdout",
     "output_type": "stream",
     "text": [
      "elapsed time: 0.265932662 seconds\n"
     ]
    },
    {
     "data": {
      "text/plain": [
       "0.265932662"
      ]
     },
     "execution_count": 7,
     "metadata": {},
     "output_type": "execute_result"
    }
   ],
   "source": [
    "tic()\n",
    "run(`python ./Python/lorenz.swig.py`)\n",
    "toc()"
   ]
  },
  {
   "cell_type": "code",
   "execution_count": 8,
   "metadata": {
    "collapsed": false
   },
   "outputs": [
    {
     "data": {
      "text/plain": [
       "([0.0, 0.1, 0.189, 0.270808, 0.348532, 0.424755, 0.501673, 0.581205, 0.665079, 0.754902  …  0.148903, 0.0770094, 0.0142008, -0.0410513, -0.0900992, -0.134137, -0.174219, -0.211276, -0.246131, -0.279516], [1.0, 0.99, 1.00708, 1.04805, 1.11076, 1.19394, 1.29699, 1.41994, 1.56331, 1.72809  …  -0.570029, -0.551077, -0.53832, -0.53153, -0.530479, -0.534958, -0.544785, -0.559823, -0.579982, -0.605222], [1.05, 1.022, 0.995737, 0.971087, 0.94803, 0.92662, 0.906982, 0.889302, 0.87384, 0.860935  …  19.1004, 18.5902, 18.0941, 17.6115, 17.1421, 16.6854, 16.2412, 15.8091, 15.3887, 14.9797])"
      ]
     },
     "execution_count": 8,
     "metadata": {},
     "output_type": "execute_result"
    }
   ],
   "source": [
    "function lorenz()\n",
    "    dt = 0.01\n",
    "    n  = 200000\n",
    "\n",
    "    a = 10.\n",
    "    b = 28.\n",
    "    c = 8/3\n",
    "\n",
    "    x = zeros(n)\n",
    "    y = zeros(n)\n",
    "    z = zeros(n)\n",
    "\n",
    "    x[1] = 0\n",
    "    y[1] = 1.\n",
    "    z[1] = 1.05\n",
    "\n",
    "    for i = 1:n-1\n",
    "        x[i+1] = x[i] + dt * (- a    * x[i] + a * y[i])\n",
    "        y[i+1] = y[i] + dt * (- x[i] * z[i] + b * x[i] - y[i])\n",
    "        z[i+1] = z[i] + dt * ( x[i]  * y[i] - c * z[i] )\n",
    "    end\n",
    "    return x,y,z\n",
    "end\n",
    "gx,gy,gz = lorenz()"
   ]
  },
  {
   "cell_type": "code",
   "execution_count": 9,
   "metadata": {
    "collapsed": false
   },
   "outputs": [
    {
     "name": "stdout",
     "output_type": "stream",
     "text": [
      "elapsed time: 0.005617327 seconds\n"
     ]
    }
   ],
   "source": [
    "tic()\n",
    "gx,gy,gz = lorenz()\n",
    "toc()"
   ]
  },
  {
   "cell_type": "code",
   "execution_count": 10,
   "metadata": {
    "collapsed": false
   },
   "outputs": [],
   "source": [
    "using PyCall\n",
    "unshift!(PyVector(pyimport(\"sys\")[\"path\"]), \"\")\n",
    "@pyimport _SwigMod as SwigMod"
   ]
  },
  {
   "cell_type": "code",
   "execution_count": 11,
   "metadata": {
    "collapsed": false
   },
   "outputs": [
    {
     "name": "stdout",
     "output_type": "stream",
     "text": [
      "elapsed time: 0.508667328 seconds\n"
     ]
    },
    {
     "data": {
      "text/plain": [
       "0.508667328"
      ]
     },
     "execution_count": 11,
     "metadata": {},
     "output_type": "execute_result"
    }
   ],
   "source": [
    "tic()\n",
    "dt = 0.01\n",
    "n  = 200000\n",
    "\n",
    "a = 10.\n",
    "b = 28.\n",
    "c = 8/3\n",
    "\n",
    "x = zeros(n)\n",
    "y = zeros(n)\n",
    "z = zeros(n)\n",
    "\n",
    "x[1] = 0\n",
    "y[1] = 1.\n",
    "z[1] = 1.05\n",
    "\n",
    "SwigMod.Swig_Lorenz(x, y, z, a, b, c, dt, n)\n",
    "toc()"
   ]
  },
  {
   "cell_type": "code",
   "execution_count": 12,
   "metadata": {
    "collapsed": false
   },
   "outputs": [
    {
     "name": "stdout",
     "output_type": "stream",
     "text": [
      "elapsed time: 0.005418702 seconds\n"
     ]
    },
    {
     "data": {
      "text/plain": [
       "0.005418702"
      ]
     },
     "execution_count": 12,
     "metadata": {},
     "output_type": "execute_result"
    }
   ],
   "source": [
    "tic()\n",
    "dt = 0.01\n",
    "n  = 200000\n",
    "\n",
    "a = 10.\n",
    "b = 28.\n",
    "c = 8/3\n",
    "\n",
    "x = zeros(n)\n",
    "y = zeros(n)\n",
    "z = zeros(n)\n",
    "\n",
    "x[1] = 0\n",
    "y[1] = 1.\n",
    "z[1] = 1.05\n",
    "\n",
    "SwigMod.Swig_Lorenz(x, y, z, a, b, c, dt, n)\n",
    "toc()"
   ]
  },
  {
   "cell_type": "code",
   "execution_count": null,
   "metadata": {
    "collapsed": true
   },
   "outputs": [],
   "source": []
  }
 ],
 "metadata": {
  "kernelspec": {
   "display_name": "Julia 0.6.1",
   "language": "julia",
   "name": "julia-0.6"
  },
  "language_info": {
   "file_extension": ".jl",
   "mimetype": "application/julia",
   "name": "julia",
   "version": "0.6.1"
  }
 },
 "nbformat": 4,
 "nbformat_minor": 2
}
