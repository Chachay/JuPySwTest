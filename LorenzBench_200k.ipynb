{
 "cells": [
  {
   "cell_type": "code",
   "execution_count": 1,
   "metadata": {
    "collapsed": false
   },
   "outputs": [
    {
     "name": "stdout",
     "output_type": "stream",
     "text": [
      "Julia Version 0.6.1\n",
      "Commit 0d7248e2ff* (2017-10-24 22:15 UTC)\n",
      "Platform Info:\n",
      "  OS: Windows (x86_64-w64-mingw32)\n",
      "  CPU: Intel(R) Core(TM) i3-3240 CPU @ 3.40GHz\n",
      "  WORD_SIZE: 64\n",
      "  BLAS: libopenblas (USE64BITINT DYNAMIC_ARCH NO_AFFINITY Sandybridge)\n",
      "  LAPACK: libopenblas64_\n",
      "  LIBM: libopenlibm\n",
      "  LLVM: libLLVM-3.9.1 (ORCJIT, ivybridge)\n"
     ]
    }
   ],
   "source": [
    "versioninfo()"
   ]
  },
  {
   "cell_type": "code",
   "execution_count": 2,
   "metadata": {
    "collapsed": false
   },
   "outputs": [
    {
     "name": "stderr",
     "output_type": "stream",
     "text": [
      "Python 3.6.0 :: Anaconda 4.3.0 (64-bit)\r\n"
     ]
    }
   ],
   "source": [
    "run(`python --version`)"
   ]
  },
  {
   "cell_type": "code",
   "execution_count": 3,
   "metadata": {
    "collapsed": false
   },
   "outputs": [
    {
     "name": "stdout",
     "output_type": "stream",
     "text": [
      "v8.9.4\r\n"
     ]
    }
   ],
   "source": [
    "run(`node --version`)"
   ]
  },
  {
   "cell_type": "code",
   "execution_count": 4,
   "metadata": {
    "collapsed": false
   },
   "outputs": [
    {
     "data": {
      "text/plain": [
       "1"
      ]
     },
     "execution_count": 4,
     "metadata": {},
     "output_type": "execute_result"
    }
   ],
   "source": [
    "nprocs()"
   ]
  },
  {
   "cell_type": "code",
   "execution_count": 5,
   "metadata": {
    "collapsed": false
   },
   "outputs": [
    {
     "name": "stdout",
     "output_type": "stream",
     "text": [
      "elapsed time: 0.911084809 seconds\n"
     ]
    },
    {
     "data": {
      "text/plain": [
       "0.911084809"
      ]
     },
     "execution_count": 5,
     "metadata": {},
     "output_type": "execute_result"
    }
   ],
   "source": [
    "tic()\n",
    "run(`python ./Python/lorenz.py`)\n",
    "toc()"
   ]
  },
  {
   "cell_type": "code",
   "execution_count": 6,
   "metadata": {
    "collapsed": false
   },
   "outputs": [
    {
     "name": "stdout",
     "output_type": "stream",
     "text": [
      "elapsed time: 0.352471908 seconds\n"
     ]
    },
    {
     "data": {
      "text/plain": [
       "0.352471908"
      ]
     },
     "execution_count": 6,
     "metadata": {},
     "output_type": "execute_result"
    }
   ],
   "source": [
    "tic()\n",
    "run(`julia ./julia/lorenz.jl`)\n",
    "toc()"
   ]
  },
  {
   "cell_type": "code",
   "execution_count": 7,
   "metadata": {
    "collapsed": false
   },
   "outputs": [
    {
     "name": "stdout",
     "output_type": "stream",
     "text": [
      "elapsed time: 0.901488656 seconds\n"
     ]
    },
    {
     "data": {
      "text/plain": [
       "0.901488656"
      ]
     },
     "execution_count": 7,
     "metadata": {},
     "output_type": "execute_result"
    }
   ],
   "source": [
    "tic()\n",
    "run(`python ./Python/lorenz.numba.py`)\n",
    "toc()"
   ]
  },
  {
   "cell_type": "code",
   "execution_count": 8,
   "metadata": {
    "collapsed": false
   },
   "outputs": [
    {
     "name": "stdout",
     "output_type": "stream",
     "text": [
      "elapsed time: 0.272157333 seconds\n"
     ]
    },
    {
     "data": {
      "text/plain": [
       "0.272157333"
      ]
     },
     "execution_count": 8,
     "metadata": {},
     "output_type": "execute_result"
    }
   ],
   "source": [
    "tic()\n",
    "run(`python ./Python/lorenz.swig.py`)\n",
    "toc()"
   ]
  },
  {
   "cell_type": "code",
   "execution_count": 9,
   "metadata": {
    "collapsed": false
   },
   "outputs": [
    {
     "name": "stdout",
     "output_type": "stream",
     "text": [
      "elapsed time: 0.186117365 seconds\n"
     ]
    },
    {
     "data": {
      "text/plain": [
       "0.186117365"
      ]
     },
     "execution_count": 9,
     "metadata": {},
     "output_type": "execute_result"
    }
   ],
   "source": [
    "tic()\n",
    "run(`node ./JS/lorenz.js`)\n",
    "toc()"
   ]
  },
  {
   "cell_type": "code",
   "execution_count": 10,
   "metadata": {
    "collapsed": false
   },
   "outputs": [
    {
     "data": {
      "text/plain": [
       "([0.0, 0.1, 0.189, 0.270808, 0.348532, 0.424755, 0.501673, 0.581205, 0.665079, 0.754902  …  0.148903, 0.0770094, 0.0142008, -0.0410513, -0.0900992, -0.134137, -0.174219, -0.211276, -0.246131, -0.279516], [1.0, 0.99, 1.00708, 1.04805, 1.11076, 1.19394, 1.29699, 1.41994, 1.56331, 1.72809  …  -0.570029, -0.551077, -0.53832, -0.53153, -0.530479, -0.534958, -0.544785, -0.559823, -0.579982, -0.605222], [1.05, 1.022, 0.995737, 0.971087, 0.94803, 0.92662, 0.906982, 0.889302, 0.87384, 0.860935  …  19.1004, 18.5902, 18.0941, 17.6115, 17.1421, 16.6854, 16.2412, 15.8091, 15.3887, 14.9797])"
      ]
     },
     "execution_count": 10,
     "metadata": {},
     "output_type": "execute_result"
    }
   ],
   "source": [
    "function lorenz()\n",
    "    dt = 0.01\n",
    "    n  = 200000\n",
    "\n",
    "    a = 10.\n",
    "    b = 28.\n",
    "    c = 8/3\n",
    "\n",
    "    x = zeros(n)\n",
    "    y = zeros(n)\n",
    "    z = zeros(n)\n",
    "\n",
    "    x[1] = 0\n",
    "    y[1] = 1.\n",
    "    z[1] = 1.05\n",
    "\n",
    "    for i = 1:n-1\n",
    "        x[i+1] = x[i] + dt * (- a    * x[i] + a * y[i])\n",
    "        y[i+1] = y[i] + dt * (- x[i] * z[i] + b * x[i] - y[i])\n",
    "        z[i+1] = z[i] + dt * ( x[i]  * y[i] - c * z[i] )\n",
    "    end\n",
    "    return x,y,z\n",
    "end\n",
    "gx,gy,gz = lorenz()"
   ]
  },
  {
   "cell_type": "code",
   "execution_count": 11,
   "metadata": {
    "collapsed": false
   },
   "outputs": [
    {
     "name": "stdout",
     "output_type": "stream",
     "text": [
      "elapsed time: 0.005422626 seconds\n"
     ]
    },
    {
     "data": {
      "text/plain": [
       "0.005422626"
      ]
     },
     "execution_count": 11,
     "metadata": {},
     "output_type": "execute_result"
    }
   ],
   "source": [
    "tic()\n",
    "gx,gy,gz = lorenz()\n",
    "toc()"
   ]
  },
  {
   "cell_type": "code",
   "execution_count": 12,
   "metadata": {
    "collapsed": false
   },
   "outputs": [],
   "source": [
    "using PyCall\n",
    "unshift!(PyVector(pyimport(\"sys\")[\"path\"]), \"\")\n",
    "@pyimport _SwigMod as SwigMod"
   ]
  },
  {
   "cell_type": "code",
   "execution_count": 13,
   "metadata": {
    "collapsed": false
   },
   "outputs": [
    {
     "name": "stdout",
     "output_type": "stream",
     "text": [
      "elapsed time: 0.526467148 seconds\n"
     ]
    },
    {
     "data": {
      "text/plain": [
       "0.526467148"
      ]
     },
     "execution_count": 13,
     "metadata": {},
     "output_type": "execute_result"
    }
   ],
   "source": [
    "tic()\n",
    "dt = 0.01\n",
    "n  = 200000\n",
    "\n",
    "a = 10.\n",
    "b = 28.\n",
    "c = 8/3\n",
    "\n",
    "x = zeros(n)\n",
    "y = zeros(n)\n",
    "z = zeros(n)\n",
    "\n",
    "x[1] = 0\n",
    "y[1] = 1.\n",
    "z[1] = 1.05\n",
    "\n",
    "SwigMod.Swig_Lorenz(x, y, z, a, b, c, dt, n)\n",
    "toc()"
   ]
  },
  {
   "cell_type": "code",
   "execution_count": 14,
   "metadata": {
    "collapsed": false
   },
   "outputs": [
    {
     "name": "stdout",
     "output_type": "stream",
     "text": [
      "elapsed time: 0.006806054 seconds\n"
     ]
    },
    {
     "data": {
      "text/plain": [
       "0.006806054"
      ]
     },
     "execution_count": 14,
     "metadata": {},
     "output_type": "execute_result"
    }
   ],
   "source": [
    "tic()\n",
    "dt = 0.01\n",
    "n  = 200000\n",
    "\n",
    "a = 10.\n",
    "b = 28.\n",
    "c = 8/3\n",
    "\n",
    "x = zeros(n)\n",
    "y = zeros(n)\n",
    "z = zeros(n)\n",
    "\n",
    "x[1] = 0\n",
    "y[1] = 1.\n",
    "z[1] = 1.05\n",
    "\n",
    "SwigMod.Swig_Lorenz(x, y, z, a, b, c, dt, n)\n",
    "toc()"
   ]
  },
  {
   "cell_type": "code",
   "execution_count": 15,
   "metadata": {
    "collapsed": false
   },
   "outputs": [
    {
     "name": "stdout",
     "output_type": "stream",
     "text": [
      "\t.text\n",
      "Filename: In[10]\n",
      "\tpushq\t%rbp\n",
      "\tmovq\t%rsp, %rbp\n",
      "\tpushq\t%r15\n",
      "\tpushq\t%r14\n",
      "\tpushq\t%r12\n",
      "\tpushq\t%rsi\n",
      "\tpushq\t%rdi\n",
      "\tpushq\t%rbx\n",
      "\tsubq\t$256, %rsp              # imm = 0x100\n",
      "\tmovapd\t%xmm6, -64(%rbp)\n",
      "\tsubq\t$32, %rsp\n",
      "\tmovabsq\t$jl_get_ptls_states, %rax\n",
      "\tcallq\t*%rax\n",
      "\taddq\t$32, %rsp\n",
      "\tmovq\t%rax, %r14\n",
      "\txorps\t%xmm0, %xmm0\n",
      "\tmovups\t%xmm0, -80(%rbp)\n",
      "\tmovups\t%xmm0, -96(%rbp)\n",
      "\tmovups\t%xmm0, -112(%rbp)\n",
      "\tmovups\t%xmm0, -128(%rbp)\n",
      "\tmovups\t%xmm0, -144(%rbp)\n",
      "\tmovups\t%xmm0, -160(%rbp)\n",
      "\tmovups\t%xmm0, -176(%rbp)\n",
      "\tmovups\t%xmm0, -192(%rbp)\n",
      "\tmovups\t%xmm0, -208(%rbp)\n",
      "\tmovups\t%xmm0, -224(%rbp)\n",
      "\tmovups\t%xmm0, -240(%rbp)\n",
      "\tmovups\t%xmm0, -256(%rbp)\n",
      "\tmovups\t%xmm0, -272(%rbp)\n",
      "\tmovups\t%xmm0, -288(%rbp)\n",
      "\tmovq\t$56, -304(%rbp)\n",
      "\tmovq\t(%r14), %rax\n",
      "\tmovq\t%rax, -296(%rbp)\n",
      "\tleaq\t-304(%rbp), %rax\n",
      "\tmovq\t%rax, (%r14)\n",
      "Source line: 9\n",
      "\tsubq\t$32, %rsp\n",
      "\tmovl\t$jl_alloc_array_1d, %esi\n",
      "\tmovl\t$112845264, %ecx        # imm = 0x6B9E1D0\n",
      "\tmovl\t$200000, %edx           # imm = 0x30D40\n",
      "\tcallq\t*%rsi\n",
      "\taddq\t$32, %rsp\n",
      "\tmovq\t%rax, -288(%rbp)\n",
      "\tsubq\t$32, %rsp\n",
      "\tmovabsq\t$\"fill!\", %rdi\n",
      "\txorps\t%xmm1, %xmm1\n",
      "\tmovq\t%rax, %rcx\n",
      "\tcallq\t*%rdi\n",
      "\taddq\t$32, %rsp\n",
      "\tmovq\t%rax, %r12\n",
      "\tmovq\t%r12, -280(%rbp)\n",
      "Source line: 10\n",
      "\tsubq\t$32, %rsp\n",
      "\tmovl\t$112845264, %ecx        # imm = 0x6B9E1D0\n",
      "\tmovl\t$200000, %edx           # imm = 0x30D40\n",
      "\tcallq\t*%rsi\n",
      "\taddq\t$32, %rsp\n",
      "\tmovq\t%rax, -272(%rbp)\n",
      "\tsubq\t$32, %rsp\n",
      "\txorps\t%xmm1, %xmm1\n",
      "\tmovq\t%rax, %rcx\n",
      "\tcallq\t*%rdi\n",
      "\taddq\t$32, %rsp\n",
      "\tmovq\t%rax, %rbx\n",
      "\tmovq\t%rbx, -264(%rbp)\n",
      "Source line: 11\n",
      "\tsubq\t$32, %rsp\n",
      "\tmovl\t$112845264, %ecx        # imm = 0x6B9E1D0\n",
      "\tmovl\t$200000, %edx           # imm = 0x30D40\n",
      "\tcallq\t*%rsi\n",
      "\taddq\t$32, %rsp\n",
      "\tmovq\t%rax, -256(%rbp)\n",
      "\tsubq\t$32, %rsp\n",
      "\txorps\t%xmm1, %xmm1\n",
      "\tmovq\t%rax, %rcx\n",
      "\tcallq\t*%rdi\n",
      "\taddq\t$32, %rsp\n",
      "\tmovq\t%rax, %r15\n",
      "\tmovq\t%r15, -248(%rbp)\n",
      "Source line: 13\n",
      "\tmovq\t%r12, -240(%rbp)\n",
      "Source line: 18\n",
      "\tmovq\t24(%r12), %r8\n",
      "Source line: 13\n",
      "\ttestq\t%r8, %r8\n",
      "\tje\tL1296\n",
      "\tmovq\t(%r12), %r11\n",
      "\tmovq\t$0, (%r11)\n",
      "Source line: 14\n",
      "\tmovq\t%rbx, -232(%rbp)\n",
      "\tmovq\t24(%rbx), %r9\n",
      "\ttestq\t%r9, %r9\n",
      "\tje\tL1358\n",
      "\tmovq\t(%rbx), %rax\n",
      "\tmovabsq\t$4607182418800017408, %rcx # imm = 0x3FF0000000000000\n",
      "\tmovq\t%rcx, (%rax)\n",
      "Source line: 15\n",
      "\tmovq\t%r15, -224(%rbp)\n",
      "\tmovq\t24(%r15), %r10\n",
      "\ttestq\t%r10, %r10\n",
      "\tje\tL1420\n",
      "\tmovq\t(%r15), %rdi\n",
      "\tmovabsq\t$4607407598781385933, %rcx # imm = 0x3FF0CCCCCCCCCCCD\n",
      "\tmovq\t%rcx, (%rdi)\n",
      "\tmovl\t$2, %ecx\n",
      "\tmovabsq\t$391948536, %rdx        # imm = 0x175CA8F8\n",
      "Source line: 18\n",
      "\tmovsd\t(%rdx), %xmm0           # xmm0 = mem[0],zero\n",
      "\tmovabsq\t$391948544, %rdx        # imm = 0x175CA900\n",
      "\tmovsd\t(%rdx), %xmm1           # xmm1 = mem[0],zero\n",
      "\tmovabsq\t$391948552, %rdx        # imm = 0x175CA908\n",
      "\tmovsd\t(%rdx), %xmm2           # xmm2 = mem[0],zero\n",
      "\tmovabsq\t$391948560, %rdx        # imm = 0x175CA910\n",
      "\tmovsd\t(%rdx), %xmm3           # xmm3 = mem[0],zero\n",
      "\tnopl\t(%rax,%rax)\n",
      "L512:\n",
      "\tleaq\t-1(%rcx), %rsi\n",
      "\tleaq\t-2(%rcx), %rdx\n",
      "\tcmpq\t%r8, %rdx\n",
      "\tjae\tL906\n",
      "\tmovq\t%r12, -208(%rbp)\n",
      "\tmovq\t%rbx, -200(%rbp)\n",
      "\tcmpq\t%r9, %rdx\n",
      "\tjae\tL971\n",
      "\tmovq\t%r12, -192(%rbp)\n",
      "\tcmpq\t%r8, %rsi\n",
      "\tjae\tL1036\n",
      "Source line: 19\n",
      "\tmovsd\t-16(%r11,%rcx,8), %xmm4 # xmm4 = mem[0],zero\n",
      "Source line: 18\n",
      "\tmovapd\t%xmm4, %xmm5\n",
      "\tmulsd\t%xmm0, %xmm5\n",
      "\tmovsd\t-16(%rax,%rcx,8), %xmm6 # xmm6 = mem[0],zero\n",
      "\tmulsd\t%xmm0, %xmm6\n",
      "\tsubsd\t%xmm5, %xmm6\n",
      "\tmulsd\t%xmm1, %xmm6\n",
      "\taddsd\t%xmm4, %xmm6\n",
      "\tmovsd\t%xmm6, -8(%r11,%rcx,8)\n",
      "Source line: 19\n",
      "\tmovq\t%rbx, -184(%rbp)\n",
      "\tmovq\t%r12, -176(%rbp)\n",
      "\tmovq\t%r15, -168(%rbp)\n",
      "\tcmpq\t%r10, %rdx\n",
      "\tjae\tL1101\n",
      "\tmovq\t%r12, -160(%rbp)\n",
      "\tmovq\t%rbx, -152(%rbp)\n",
      "\tmovq\t%rbx, -144(%rbp)\n",
      "\tcmpq\t%r9, %rsi\n",
      "\tjae\tL1166\n",
      "Source line: 20\n",
      "\tmovsd\t-16(%rax,%rcx,8), %xmm5 # xmm5 = mem[0],zero\n",
      "Source line: 19\n",
      "\tmovapd\t%xmm4, %xmm6\n",
      "\tmulsd\t%xmm2, %xmm6\n",
      "\tmulsd\t-16(%rdi,%rcx,8), %xmm4\n",
      "\tsubsd\t%xmm4, %xmm6\n",
      "\tsubsd\t%xmm5, %xmm6\n",
      "\tmulsd\t%xmm1, %xmm6\n",
      "\taddsd\t%xmm5, %xmm6\n",
      "\tmovsd\t%xmm6, -8(%rax,%rcx,8)\n",
      "Source line: 20\n",
      "\tmovq\t%r15, -136(%rbp)\n",
      "\tmovq\t%r12, -128(%rbp)\n",
      "\tmovq\t%rbx, -120(%rbp)\n",
      "\tmovq\t%r15, -112(%rbp)\n",
      "\tmovq\t%r15, -104(%rbp)\n",
      "\tcmpq\t%r10, %rsi\n",
      "\tjae\tL1231\n",
      "\tmovsd\t-16(%rdi,%rcx,8), %xmm4 # xmm4 = mem[0],zero\n",
      "\tmulsd\t-16(%r11,%rcx,8), %xmm5\n",
      "\tmovapd\t%xmm4, %xmm6\n",
      "\tmulsd\t%xmm3, %xmm6\n",
      "\taddsd\t%xmm5, %xmm6\n",
      "\tmulsd\t%xmm1, %xmm6\n",
      "\taddsd\t%xmm4, %xmm6\n",
      "\tmovsd\t%xmm6, -8(%rdi,%rcx,8)\n",
      "Source line: 17\n",
      "\tincq\t%rcx\n",
      "\tcmpq\t$200001, %rcx           # imm = 0x30D41\n",
      "\tjne\tL512\n",
      "Source line: 18\n",
      "\tmovq\t%r12, -216(%rbp)\n",
      "Source line: 22\n",
      "\tsubq\t$32, %rsp\n",
      "\tmovabsq\t$jl_gc_pool_alloc, %rax\n",
      "\tmovl\t$1512, %edx             # imm = 0x5E8\n",
      "\tmovl\t$32, %r8d\n",
      "\tmovq\t%r14, %rcx\n",
      "\tcallq\t*%rax\n",
      "\taddq\t$32, %rsp\n",
      "\tmovq\t$424107824, -8(%rax)    # imm = 0x19475F30\n",
      "\tmovq\t%rax, -96(%rbp)\n",
      "\tmovq\t%r12, -88(%rbp)\n",
      "\tmovq\t%r12, (%rax)\n",
      "\tmovq\t%rbx, -80(%rbp)\n",
      "\tmovq\t%rbx, 8(%rax)\n",
      "\tmovq\t%r15, -72(%rbp)\n",
      "\tmovq\t%r15, 16(%rax)\n",
      "\tmovq\t-296(%rbp), %rcx\n",
      "\tmovq\t%rcx, sbdsvdx64_(%r14)\n",
      "\tmovaps\t-64(%rbp), %xmm6\n",
      "\tleaq\t-48(%rbp), %rsp\n",
      "\tpopq\t%rbx\n",
      "\tpopq\t%rdi\n",
      "\tpopq\t%rsi\n",
      "\tpopq\t%r12\n",
      "\tpopq\t%r14\n",
      "\tpopq\t%r15\n",
      "\tpopq\t%rbp\n",
      "\tretq\n",
      "Source line: 18\n",
      "L906:\n",
      "\tmovq\t%r12, -216(%rbp)\n",
      "\tmovl\t$16, %eax\n",
      "\tmovabsq\t$1896134096, %r11       # imm = 0x7104B5D0\n",
      "\tcallq\t*%r11\n",
      "\tsubq\t%rax, %rsp\n",
      "\tmovq\t%rsp, %rdx\n",
      "\tmovq\t%rsi, (%rdx)\n",
      "\tsubq\t$32, %rsp\n",
      "\tmovabsq\t$jl_bounds_error_ints, %rax\n",
      "\tmovl\t$1, %r8d\n",
      "\tmovq\t%r12, %rcx\n",
      "\tcallq\t*%rax\n",
      "\taddq\t$32, %rsp\n",
      "\tud2\n",
      "L971:\n",
      "\tmovq\t%r12, -216(%rbp)\n",
      "\tmovl\t$16, %eax\n",
      "\tmovabsq\t$1896134096, %r11       # imm = 0x7104B5D0\n",
      "\tcallq\t*%r11\n",
      "\tsubq\t%rax, %rsp\n",
      "\tmovq\t%rsp, %rdx\n",
      "\tmovq\t%rsi, (%rdx)\n",
      "\tsubq\t$32, %rsp\n",
      "\tmovabsq\t$jl_bounds_error_ints, %rax\n",
      "\tmovl\t$1, %r8d\n",
      "\tmovq\t%rbx, %rcx\n",
      "\tcallq\t*%rax\n",
      "\taddq\t$32, %rsp\n",
      "\tud2\n",
      "L1036:\n",
      "\tmovq\t%r12, -216(%rbp)\n",
      "\tmovl\t$16, %eax\n",
      "\tmovabsq\t$1896134096, %r11       # imm = 0x7104B5D0\n",
      "\tcallq\t*%r11\n",
      "\tsubq\t%rax, %rsp\n",
      "\tmovq\t%rsp, %rdx\n",
      "\tmovq\t%rcx, (%rdx)\n",
      "\tsubq\t$32, %rsp\n",
      "\tmovabsq\t$jl_bounds_error_ints, %rax\n",
      "\tmovl\t$1, %r8d\n",
      "\tmovq\t%r12, %rcx\n",
      "\tcallq\t*%rax\n",
      "\taddq\t$32, %rsp\n",
      "\tud2\n",
      "L1101:\n",
      "\tmovq\t%r12, -216(%rbp)\n",
      "Source line: 19\n",
      "\tmovl\t$16, %eax\n",
      "\tmovabsq\t$1896134096, %r11       # imm = 0x7104B5D0\n",
      "\tcallq\t*%r11\n",
      "\tsubq\t%rax, %rsp\n",
      "\tmovq\t%rsp, %rdx\n",
      "\tmovq\t%rsi, (%rdx)\n",
      "\tsubq\t$32, %rsp\n",
      "\tmovabsq\t$jl_bounds_error_ints, %rax\n",
      "\tmovl\t$1, %r8d\n",
      "\tmovq\t%r15, %rcx\n",
      "\tcallq\t*%rax\n",
      "\taddq\t$32, %rsp\n",
      "\tud2\n",
      "Source line: 18\n",
      "L1166:\n",
      "\tmovq\t%r12, -216(%rbp)\n",
      "Source line: 19\n",
      "\tmovl\t$16, %eax\n",
      "\tmovabsq\t$1896134096, %r11       # imm = 0x7104B5D0\n",
      "\tcallq\t*%r11\n",
      "\tsubq\t%rax, %rsp\n",
      "\tmovq\t%rsp, %rdx\n",
      "\tmovq\t%rcx, (%rdx)\n",
      "\tsubq\t$32, %rsp\n",
      "\tmovabsq\t$jl_bounds_error_ints, %rax\n",
      "\tmovl\t$1, %r8d\n",
      "\tmovq\t%rbx, %rcx\n",
      "\tcallq\t*%rax\n",
      "\taddq\t$32, %rsp\n",
      "\tud2\n",
      "Source line: 18\n",
      "L1231:\n",
      "\tmovq\t%r12, -216(%rbp)\n",
      "Source line: 20\n",
      "\tmovl\t$16, %eax\n",
      "\tmovabsq\t$1896134096, %r11       # imm = 0x7104B5D0\n",
      "\tcallq\t*%r11\n",
      "\tsubq\t%rax, %rsp\n",
      "\tmovq\t%rsp, %rdx\n",
      "\tmovq\t%rcx, (%rdx)\n",
      "\tsubq\t$32, %rsp\n",
      "\tmovabsq\t$jl_bounds_error_ints, %rax\n",
      "\tmovl\t$1, %r8d\n",
      "\tmovq\t%r15, %rcx\n",
      "\tcallq\t*%rax\n",
      "\taddq\t$32, %rsp\n",
      "\tud2\n",
      "Source line: 13\n",
      "L1296:\n",
      "\tmovl\t$16, %eax\n",
      "\tmovabsq\t$1896134096, %r11       # imm = 0x7104B5D0\n",
      "\tcallq\t*%r11\n",
      "\tsubq\t%rax, %rsp\n",
      "\tmovq\t%rsp, %rdx\n",
      "\tmovq\t$1, (%rdx)\n",
      "\tsubq\t$32, %rsp\n",
      "\tmovabsq\t$jl_bounds_error_ints, %rax\n",
      "\tmovl\t$1, %r8d\n",
      "\tmovq\t%r12, %rcx\n",
      "\tcallq\t*%rax\n",
      "\taddq\t$32, %rsp\n",
      "\tud2\n",
      "Source line: 14\n",
      "L1358:\n",
      "\tmovl\t$16, %eax\n",
      "\tmovabsq\t$1896134096, %r11       # imm = 0x7104B5D0\n",
      "\tcallq\t*%r11\n",
      "\tsubq\t%rax, %rsp\n",
      "\tmovq\t%rsp, %rdx\n",
      "\tmovq\t$1, (%rdx)\n",
      "\tsubq\t$32, %rsp\n",
      "\tmovabsq\t$jl_bounds_error_ints, %rax\n",
      "\tmovl\t$1, %r8d\n",
      "\tmovq\t%rbx, %rcx\n",
      "\tcallq\t*%rax\n",
      "\taddq\t$32, %rsp\n",
      "\tud2\n",
      "Source line: 15\n",
      "L1420:\n",
      "\tmovl\t$16, %eax\n",
      "\tmovabsq\t$1896134096, %r11       # imm = 0x7104B5D0\n",
      "\tcallq\t*%r11\n",
      "\tsubq\t%rax, %rsp\n",
      "\tmovq\t%rsp, %rdx\n",
      "\tmovq\t$1, (%rdx)\n",
      "\tsubq\t$32, %rsp\n",
      "\tmovabsq\t$jl_bounds_error_ints, %rax\n",
      "\tmovl\t$1, %r8d\n",
      "\tmovq\t%r15, %rcx\n",
      "\tcallq\t*%rax\n",
      "\taddq\t$32, %rsp\n",
      "\tud2\n",
      "\tnopw\t(%rax,%rax)\n"
     ]
    }
   ],
   "source": [
    "code_native(lorenz,())"
   ]
  },
  {
   "cell_type": "code",
   "execution_count": 16,
   "metadata": {
    "collapsed": false
   },
   "outputs": [
    {
     "name": "stdout",
     "output_type": "stream",
     "text": [
      "\n",
      "; Function Attrs: uwtable\n",
      "define i8** @julia_lorenz_63943() #0 !dbg !5 {\n",
      "top:\n",
      "  %0 = call i8**** @jl_get_ptls_states() #5\n",
      "  %1 = alloca [30 x i8**], align 8\n",
      "  %.sub = getelementptr inbounds [30 x i8**], [30 x i8**]* %1, i64 0, i64 0\n",
      "  %2 = getelementptr [30 x i8**], [30 x i8**]* %1, i64 0, i64 2\n",
      "  %3 = getelementptr [30 x i8**], [30 x i8**]* %1, i64 0, i64 3\n",
      "  %4 = getelementptr [30 x i8**], [30 x i8**]* %1, i64 0, i64 4\n",
      "  %5 = getelementptr [30 x i8**], [30 x i8**]* %1, i64 0, i64 5\n",
      "  %6 = getelementptr [30 x i8**], [30 x i8**]* %1, i64 0, i64 6\n",
      "  %7 = getelementptr [30 x i8**], [30 x i8**]* %1, i64 0, i64 7\n",
      "  %8 = getelementptr [30 x i8**], [30 x i8**]* %1, i64 0, i64 8\n",
      "  %9 = bitcast [30 x i8**]* %1 to i64*\n",
      "  %10 = bitcast i8*** %2 to i8*\n",
      "  call void @llvm.memset.p0i8.i64(i8* %10, i8 0, i64 224, i32 8, i1 false)\n",
      "  store i64 56, i64* %9, align 8\n",
      "  %11 = getelementptr [30 x i8**], [30 x i8**]* %1, i64 0, i64 1\n",
      "  %12 = bitcast i8**** %0 to i64*\n",
      "  %13 = load i64, i64* %12, align 8\n",
      "  %14 = bitcast i8*** %11 to i64*\n",
      "  store i64 %13, i64* %14, align 8\n",
      "  store i8*** %.sub, i8**** %0, align 8\n",
      "  %15 = call i8** inttoptr (i64 1693642832 to i8** (i8**, i64)*)(i8** inttoptr (i64 112845264 to i8**), i64 200000)\n",
      "  store i8** %15, i8*** %2, align 8\n",
      "  %16 = call i8** @\"jlsys_fill!_58919\"(i8** %15, double 0.000000e+00)\n",
      "  store i8** %16, i8*** %3, align 8\n",
      "  %17 = call i8** inttoptr (i64 1693642832 to i8** (i8**, i64)*)(i8** inttoptr (i64 112845264 to i8**), i64 200000)\n",
      "  store i8** %17, i8*** %4, align 8\n",
      "  %18 = call i8** @\"jlsys_fill!_58919\"(i8** %17, double 0.000000e+00)\n",
      "  store i8** %18, i8*** %5, align 8\n",
      "  %19 = call i8** inttoptr (i64 1693642832 to i8** (i8**, i64)*)(i8** inttoptr (i64 112845264 to i8**), i64 200000)\n",
      "  store i8** %19, i8*** %6, align 8\n",
      "  %20 = call i8** @\"jlsys_fill!_58919\"(i8** %19, double 0.000000e+00)\n",
      "  store i8** %20, i8*** %7, align 8\n",
      "  store i8** %16, i8*** %8, align 8\n",
      "  %21 = getelementptr i8*, i8** %16, i64 3\n",
      "  %22 = bitcast i8** %21 to i64*\n",
      "  %23 = load i64, i64* %22, align 8\n",
      "  %24 = icmp eq i64 %23, 0\n",
      "  br i1 %24, label %oob, label %idxend\n",
      "\n",
      "oob:                                              ; preds = %top\n",
      "  %25 = alloca i64, align 8\n",
      "  store i64 1, i64* %25, align 8\n",
      "  call void @jl_bounds_error_ints(i8** %16, i64* nonnull %25, i64 1)\n",
      "  unreachable\n",
      "\n",
      "idxend:                                           ; preds = %top\n",
      "  %26 = getelementptr [30 x i8**], [30 x i8**]* %1, i64 0, i64 9\n",
      "  %27 = bitcast i8** %16 to double**\n",
      "  %28 = load double*, double** %27, align 8\n",
      "  store double 0.000000e+00, double* %28, align 8\n",
      "  store i8** %18, i8*** %26, align 8\n",
      "  %29 = getelementptr i8*, i8** %18, i64 3\n",
      "  %30 = bitcast i8** %29 to i64*\n",
      "  %31 = load i64, i64* %30, align 8\n",
      "  %32 = icmp eq i64 %31, 0\n",
      "  br i1 %32, label %oob1, label %idxend2\n",
      "\n",
      "oob1:                                             ; preds = %idxend\n",
      "  %33 = alloca i64, align 8\n",
      "  store i64 1, i64* %33, align 8\n",
      "  call void @jl_bounds_error_ints(i8** %18, i64* nonnull %33, i64 1)\n",
      "  unreachable\n",
      "\n",
      "idxend2:                                          ; preds = %idxend\n",
      "  %34 = getelementptr [30 x i8**], [30 x i8**]* %1, i64 0, i64 10\n",
      "  %35 = bitcast i8** %18 to double**\n",
      "  %36 = load double*, double** %35, align 8\n",
      "  store double 1.000000e+00, double* %36, align 8\n",
      "  store i8** %20, i8*** %34, align 8\n",
      "  %37 = getelementptr i8*, i8** %20, i64 3\n",
      "  %38 = bitcast i8** %37 to i64*\n",
      "  %39 = load i64, i64* %38, align 8\n",
      "  %40 = icmp eq i64 %39, 0\n",
      "  br i1 %40, label %oob3, label %idxend4\n",
      "\n",
      "oob3:                                             ; preds = %idxend2\n",
      "  %41 = alloca i64, align 8\n",
      "  store i64 1, i64* %41, align 8\n",
      "  call void @jl_bounds_error_ints(i8** %20, i64* nonnull %41, i64 1)\n",
      "  unreachable\n",
      "\n",
      "idxend4:                                          ; preds = %idxend2\n",
      "  %42 = getelementptr [30 x i8**], [30 x i8**]* %1, i64 0, i64 11\n",
      "  %43 = getelementptr [30 x i8**], [30 x i8**]* %1, i64 0, i64 12\n",
      "  %44 = getelementptr [30 x i8**], [30 x i8**]* %1, i64 0, i64 13\n",
      "  %45 = getelementptr [30 x i8**], [30 x i8**]* %1, i64 0, i64 14\n",
      "  %46 = getelementptr [30 x i8**], [30 x i8**]* %1, i64 0, i64 15\n",
      "  %47 = getelementptr [30 x i8**], [30 x i8**]* %1, i64 0, i64 16\n",
      "  %48 = getelementptr [30 x i8**], [30 x i8**]* %1, i64 0, i64 17\n",
      "  %49 = getelementptr [30 x i8**], [30 x i8**]* %1, i64 0, i64 18\n",
      "  %50 = getelementptr [30 x i8**], [30 x i8**]* %1, i64 0, i64 19\n",
      "  %51 = getelementptr [30 x i8**], [30 x i8**]* %1, i64 0, i64 20\n",
      "  %52 = getelementptr [30 x i8**], [30 x i8**]* %1, i64 0, i64 21\n",
      "  %53 = getelementptr [30 x i8**], [30 x i8**]* %1, i64 0, i64 22\n",
      "  %54 = getelementptr [30 x i8**], [30 x i8**]* %1, i64 0, i64 23\n",
      "  %55 = getelementptr [30 x i8**], [30 x i8**]* %1, i64 0, i64 24\n",
      "  %56 = getelementptr [30 x i8**], [30 x i8**]* %1, i64 0, i64 25\n",
      "  %57 = getelementptr [30 x i8**], [30 x i8**]* %1, i64 0, i64 26\n",
      "  %58 = getelementptr [30 x i8**], [30 x i8**]* %1, i64 0, i64 27\n",
      "  %59 = getelementptr [30 x i8**], [30 x i8**]* %1, i64 0, i64 28\n",
      "  %60 = getelementptr [30 x i8**], [30 x i8**]* %1, i64 0, i64 29\n",
      "  %61 = bitcast i8** %20 to double**\n",
      "  %62 = load double*, double** %61, align 8\n",
      "  store double 1.050000e+00, double* %62, align 8\n",
      "  br label %if\n",
      "\n",
      "if:                                               ; preds = %idxend4, %idxend34\n",
      "  %\"#temp#.078\" = phi i64 [ 1, %idxend4 ], [ %78, %idxend34 ]\n",
      "  %63 = add nsw i64 %\"#temp#.078\", -1\n",
      "  %64 = icmp ult i64 %63, %23\n",
      "  br i1 %64, label %idxend8, label %oob5\n",
      "\n",
      "L36:                                              ; preds = %idxend34\n",
      "  store i8** %16, i8*** %42, align 8\n",
      "  %65 = bitcast i8**** %0 to i8*\n",
      "  %66 = call i8** @jl_gc_pool_alloc(i8* %65, i32 1512, i32 32)\n",
      "  %67 = getelementptr i8*, i8** %66, i64 -1\n",
      "  %68 = bitcast i8** %67 to i8***\n",
      "  store i8** inttoptr (i64 424107824 to i8**), i8*** %68, align 8\n",
      "  store i8** %66, i8*** %57, align 8\n",
      "  %69 = bitcast i8** %66 to i8***\n",
      "  %70 = getelementptr i8*, i8** %66, i64 1\n",
      "  %71 = bitcast i8** %70 to i8***\n",
      "  %72 = getelementptr i8*, i8** %66, i64 2\n",
      "  %73 = bitcast i8** %72 to i8***\n",
      "  store i8** %16, i8*** %58, align 8\n",
      "  store i8** %16, i8*** %69, align 8\n",
      "  store i8** %18, i8*** %59, align 8\n",
      "  store i8** %18, i8*** %71, align 8\n",
      "  store i8** %20, i8*** %60, align 8\n",
      "  store i8** %20, i8*** %73, align 8\n",
      "  %74 = load i64, i64* %14, align 8\n",
      "  store i64 %74, i64* %12, align 8\n",
      "  ret i8** %66\n",
      "\n",
      "oob5:                                             ; preds = %if\n",
      "  store i8** %16, i8*** %42, align 8\n",
      "  %75 = alloca i64, align 8\n",
      "  store i64 %\"#temp#.078\", i64* %75, align 8\n",
      "  call void @jl_bounds_error_ints(i8** %16, i64* nonnull %75, i64 1)\n",
      "  unreachable\n",
      "\n",
      "idxend8:                                          ; preds = %if\n",
      "  store i8** %16, i8*** %43, align 8\n",
      "  store i8** %18, i8*** %44, align 8\n",
      "  %76 = icmp ult i64 %63, %31\n",
      "  br i1 %76, label %idxend10, label %oob9\n",
      "\n",
      "oob9:                                             ; preds = %idxend8\n",
      "  store i8** %16, i8*** %42, align 8\n",
      "  %77 = alloca i64, align 8\n",
      "  store i64 %\"#temp#.078\", i64* %77, align 8\n",
      "  call void @jl_bounds_error_ints(i8** %18, i64* nonnull %77, i64 1)\n",
      "  unreachable\n",
      "\n",
      "idxend10:                                         ; preds = %idxend8\n",
      "  %78 = add nuw nsw i64 %\"#temp#.078\", 1\n",
      "  store i8** %16, i8*** %45, align 8\n",
      "  %79 = icmp ult i64 %\"#temp#.078\", %23\n",
      "  br i1 %79, label %idxend16, label %oob11\n",
      "\n",
      "oob11:                                            ; preds = %idxend10\n",
      "  store i8** %16, i8*** %42, align 8\n",
      "  %80 = alloca i64, align 8\n",
      "  store i64 %78, i64* %80, align 8\n",
      "  call void @jl_bounds_error_ints(i8** %16, i64* nonnull %80, i64 1)\n",
      "  unreachable\n",
      "\n",
      "idxend16:                                         ; preds = %idxend10\n",
      "  %81 = getelementptr double, double* %28, i64 %63\n",
      "  %82 = load double, double* %81, align 8\n",
      "  %83 = getelementptr double, double* %36, i64 %63\n",
      "  %84 = load double, double* %83, align 8\n",
      "  %85 = fmul double %82, 1.000000e+01\n",
      "  %86 = fmul double %84, 1.000000e+01\n",
      "  %87 = fsub double %86, %85\n",
      "  %88 = fmul double %87, 1.000000e-02\n",
      "  %89 = fadd double %82, %88\n",
      "  %90 = getelementptr double, double* %28, i64 %\"#temp#.078\"\n",
      "  store double %89, double* %90, align 8\n",
      "  store i8** %18, i8*** %46, align 8\n",
      "  store i8** %16, i8*** %47, align 8\n",
      "  store i8** %20, i8*** %48, align 8\n",
      "  %91 = icmp ult i64 %63, %39\n",
      "  br i1 %91, label %idxend22, label %oob17\n",
      "\n",
      "oob17:                                            ; preds = %idxend16\n",
      "  store i8** %16, i8*** %42, align 8\n",
      "  %92 = alloca i64, align 8\n",
      "  store i64 %\"#temp#.078\", i64* %92, align 8\n",
      "  call void @jl_bounds_error_ints(i8** %20, i64* nonnull %92, i64 1)\n",
      "  unreachable\n",
      "\n",
      "idxend22:                                         ; preds = %idxend16\n",
      "  store i8** %16, i8*** %49, align 8\n",
      "  store i8** %18, i8*** %50, align 8\n",
      "  store i8** %18, i8*** %51, align 8\n",
      "  %93 = icmp ult i64 %\"#temp#.078\", %31\n",
      "  br i1 %93, label %idxend32, label %oob23\n",
      "\n",
      "oob23:                                            ; preds = %idxend22\n",
      "  store i8** %16, i8*** %42, align 8\n",
      "  %94 = alloca i64, align 8\n",
      "  store i64 %78, i64* %94, align 8\n",
      "  call void @jl_bounds_error_ints(i8** %18, i64* nonnull %94, i64 1)\n",
      "  unreachable\n",
      "\n",
      "idxend32:                                         ; preds = %idxend22\n",
      "  %95 = load double, double* %83, align 8\n",
      "  %96 = getelementptr double, double* %62, i64 %63\n",
      "  %97 = load double, double* %96, align 8\n",
      "  %98 = fmul double %82, 2.800000e+01\n",
      "  %99 = fmul double %82, %97\n",
      "  %100 = fsub double %98, %99\n",
      "  %101 = fsub double %100, %95\n",
      "  %102 = fmul double %101, 1.000000e-02\n",
      "  %103 = fadd double %95, %102\n",
      "  %104 = getelementptr double, double* %36, i64 %\"#temp#.078\"\n",
      "  store double %103, double* %104, align 8\n",
      "  store i8** %20, i8*** %52, align 8\n",
      "  store i8** %16, i8*** %53, align 8\n",
      "  store i8** %18, i8*** %54, align 8\n",
      "  store i8** %20, i8*** %55, align 8\n",
      "  store i8** %20, i8*** %56, align 8\n",
      "  %105 = icmp ult i64 %\"#temp#.078\", %39\n",
      "  br i1 %105, label %idxend34, label %oob33\n",
      "\n",
      "oob33:                                            ; preds = %idxend32\n",
      "  store i8** %16, i8*** %42, align 8\n",
      "  %106 = alloca i64, align 8\n",
      "  store i64 %78, i64* %106, align 8\n",
      "  call void @jl_bounds_error_ints(i8** %20, i64* nonnull %106, i64 1)\n",
      "  unreachable\n",
      "\n",
      "idxend34:                                         ; preds = %idxend32\n",
      "  %107 = load double, double* %96, align 8\n",
      "  %108 = load double, double* %81, align 8\n",
      "  %109 = fmul double %108, %95\n",
      "  %110 = fmul double %107, 0x4005555555555555\n",
      "  %111 = fsub double %109, %110\n",
      "  %112 = fmul double %111, 1.000000e-02\n",
      "  %113 = fadd double %107, %112\n",
      "  %114 = getelementptr double, double* %62, i64 %\"#temp#.078\"\n",
      "  store double %113, double* %114, align 8\n",
      "  %115 = icmp eq i64 %78, 200000\n",
      "  br i1 %115, label %L36, label %if\n",
      "}\n"
     ]
    }
   ],
   "source": [
    "code_llvm(lorenz,())"
   ]
  },
  {
   "cell_type": "code",
   "execution_count": null,
   "metadata": {
    "collapsed": true
   },
   "outputs": [],
   "source": []
  }
 ],
 "metadata": {
  "kernelspec": {
   "display_name": "Julia 0.6.1",
   "language": "julia",
   "name": "julia-0.6"
  },
  "language_info": {
   "file_extension": ".jl",
   "mimetype": "application/julia",
   "name": "julia",
   "version": "0.6.1"
  }
 },
 "nbformat": 4,
 "nbformat_minor": 2
}
